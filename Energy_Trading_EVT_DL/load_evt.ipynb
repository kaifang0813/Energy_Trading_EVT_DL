{
 "cells": [
  {
   "cell_type": "code",
   "execution_count": 6,
   "metadata": {},
   "outputs": [],
   "source": [
    "import torch\n",
    "import pandas as pd\n",
    "import numpy as np\n",
    "import torch.nn as nn\n",
    "import pdb\n",
    "from torch.utils.data import Dataset, DataLoader\n",
    "import matplotlib.pyplot as plt\n",
    "\n",
    "class LoadDataset(Dataset):\n",
    "    def __init__(self, years=range(2016,2019), horizon=5,lookback=60,transform=None):\n",
    "        \"\"\"\n",
    "        Args:\n",
    "            years (list): List of years for which the data is to be loaded\n",
    "        \"\"\"\n",
    "        # years = range(2010,2019)\n",
    "        # dfs = (pd.read_csv(\"http://pjm.com/pub/account/loadhryr/%s.txt\"%str(yr)) for yr in years)\n",
    "        dfs = (pd.read_csv(\"/Users/kai/Downloads/Energy-EVT-master/load/%s.txt\"%str(yr),\n",
    "                           usecols=[0,1,2],names=[\"date\",\"hour\",\"load\"],header=0) for yr in years)\n",
    "        load_df   = pd.concat(dfs, ignore_index=True)\n",
    "        load_df.date = pd.to_datetime(load_df.date, format='%m/%d/%y')\n",
    "        load_df.hour = pd.to_numeric(load_df.hour/100, downcast=\"integer\")\n",
    "        load_df['dow'] = load_df.date.dt.dayofweek\n",
    "        load_df['month'] = load_df.date.dt.month\n",
    "        self.data = torch.tensor(load_df.sort_values(by=[\"date\",\"hour\"]).values[:,(1,3,4,2)].astype(int), device=\"cpu\", dtype=torch.float32)\n",
    "        # pdb.set_trace()\n",
    "        self.std = self.data[:,3].std()\n",
    "        self.mean = self.data[:,3].mean()\n",
    "        self.min = self.data[:,3].min()\n",
    "        self.max = self.data[:,3].max()\n",
    "        # self.data[:,3] = (self.data[:,3] - self.min)/(self.max - self.min)\n",
    "        self.data[:,3] = (self.data[:,3] - self.mean)/(self.std)\n",
    "        self.horizon = horizon\n",
    "        self.lookback = lookback\n",
    "        self.transform = transform\n",
    "    def __len__(self):\n",
    "        return len(self.data)-self.lookback-self.horizon\n",
    "    def __getitem__(self,idx):\n",
    "        # pdb.set_trace()\n",
    "        current = self.data[idx+self.lookback+self.horizon-1,3]\n",
    "        # past    = torch.cat([self.data[idx:(idx+self.lookback),3],self.data[idx+self.lookback+self.horizon-1,0:3]])\n",
    "        past    = torch.tensor(self.data[idx:(idx+self.lookback),3])\n",
    "        # print(past.size())\n",
    "        sample = {'past': past, 'current': current}\n",
    "        if self.transform:\n",
    "            sample = self.transform(sample)\n",
    "        return sample\t\n",
    "\n",
    "\n",
    "\n",
    "\n",
    "# for i_batch, sample_batched in enumerate(dataloader):\n",
    "# \tprint(i_batch, sample_batched)\n",
    "# \tif i_batch==3:\n",
    "# \t\tbreak\n",
    "\n",
    "class EVT(nn.Module):\n",
    "    def __init__(self, nin, hidden_sizes, nout):\n",
    "        super().__init__()\n",
    "        self.nin = nin\n",
    "        self.nout = nout\n",
    "        self.hidden_sizes = hidden_sizes\n",
    "        # pdb.set_trace()\n",
    "        self.net = []\n",
    "        hs = [nin] + hidden_sizes + [nout]\n",
    "        for h0,h1 in zip(hs, hs[1:]):\n",
    "            self.net.extend([nn.Linear(h0, h1),nn.Tanh()])\n",
    "        self.net.pop() # pop the last nonlinear function for the output layer, just make it linear\n",
    "        self.net = nn.Sequential(*self.net)\n",
    "        self.net.apply(self.initweights)\n",
    "        self.xi = torch.tensor([1e-3], device=device, dtype=dtype, requires_grad=True)\n",
    "    def initweights(self,m):\n",
    "        if isinstance(m, nn.Linear):\n",
    "            nn.init.kaiming_uniform_(m.weight, mode='fan_out', nonlinearity='tanh')\n",
    "    def forward(self, x):\n",
    "        y = self.net(x)\n",
    "        # return self.xi,y[:,0].exp()\n",
    "        # return self.xi,y[:,0].clamp(min=1e-6)\n",
    "        return y[:,0].tanh().exp(), self.xi\n"
   ]
  },
  {
   "cell_type": "code",
   "execution_count": 7,
   "metadata": {},
   "outputs": [],
   "source": [
    "# for seed in range(20,60):\n",
    "seed = 39\n",
    "torch.manual_seed(seed)\n",
    "hidden = [3]\n",
    "learning_rate = 1e-2\n",
    "u = 31000\n",
    "nepoch =15\n",
    "nin = 36\n",
    "\n",
    "\n",
    "td = LoadDataset(lookback=nin)\n",
    "dataloader = DataLoader(td, batch_size=128, num_workers=0)\n",
    "\n"
   ]
  },
  {
   "cell_type": "code",
   "execution_count": 8,
   "metadata": {},
   "outputs": [
    {
     "data": {
      "text/plain": [
       "tensor([[  1.0000,   4.0000,   1.0000,  -0.8791],\n",
       "        [  2.0000,   4.0000,   1.0000,  -1.0251],\n",
       "        [  3.0000,   4.0000,   1.0000,  -1.1379],\n",
       "        ...,\n",
       "        [ 22.0000,   1.0000,   5.0000,  -0.2205],\n",
       "        [ 23.0000,   1.0000,   5.0000,  -0.6421],\n",
       "        [ 24.0000,   1.0000,   5.0000,  -1.0357]])"
      ]
     },
     "execution_count": 8,
     "metadata": {},
     "output_type": "execute_result"
    }
   ],
   "source": [
    "td.data"
   ]
  },
  {
   "cell_type": "code",
   "execution_count": 9,
   "metadata": {},
   "outputs": [
    {
     "name": "stdout",
     "output_type": "stream",
     "text": [
      "Epoch 0:  -0.6013960242271423\n",
      "Epoch 1:  -0.6015834212303162\n",
      "Epoch 2:  -0.6011939644813538\n",
      "Epoch 3:  -0.6022868752479553\n",
      "Epoch 4:  -0.6023133993148804\n",
      "Epoch 5:  -0.6023260354995728\n",
      "Epoch 6:  -0.6023381352424622\n",
      "Epoch 7:  -0.6023445725440979\n",
      "Epoch 8:  -0.6023073196411133\n",
      "Epoch 9:  -0.602236270904541\n",
      "Epoch 10:  -0.6021115183830261\n",
      "Epoch 11:  -0.6018803715705872\n",
      "Epoch 12:  -0.6018617749214172\n",
      "Epoch 13:  -0.6010783314704895\n",
      "Epoch 14:  -0.6001269221305847\n"
     ]
    },
    {
     "data": {
      "image/png": "[encoded data removed]",
      "text/plain": [
       "<matplotlib.figure.Figure at 0x10ef7a3c8>"
      ]
     },
     "metadata": {
      "needs_background": "light"
     },
     "output_type": "display_data"
    }
   ],
   "source": [
    "dtype = torch.float32\n",
    "device = torch.device(\"cpu\")\n",
    "nout = 1\n",
    "model = EVT(nin,hidden,nout)\n",
    "optimizer = torch.optim.Adam(model.parameters(),lr=learning_rate,weight_decay=1e-4)\n",
    "# optimizer = torch.optim.Adam(list(model.parameters()) + [model.xi],lr=learning_rate)\n",
    "loss_func = torch.nn.MSELoss() \n",
    "# u = (u - td.min)/(td.max - td.min)\n",
    "u = ((u - td.mean)/(td.std)).item()\n",
    "nBtrain = int(len(td)/dataloader.batch_size*0.98)\n",
    "for epoch in range(nepoch):\n",
    "    for i, sample_batched in enumerate(dataloader):\n",
    "        # sample_batched = next(enumerate(dataloader))[1]\n",
    "        x,y = sample_batched[\"past\"], sample_batched[\"current\"]\n",
    "        g,xi = model(x)\n",
    "\n",
    "        ###### Model with nonzero xi ########\n",
    "        # tmp = (1+g.pow(-1)*xi*(y-u)).clamp(min=1e-8)\n",
    "        # ll = -g.log() - (xi.pow(-1)+1)*tmp.log()\n",
    "\n",
    "        ###### Model with xi -> 0 ########\n",
    "        ll = -g.log() - g.pow(-1)*(y-u)\n",
    "\n",
    "        indicator = (y-u) > 0\n",
    "        indicator = indicator.nonzero()\n",
    "        # pdb.set_trace()\n",
    "        # \n",
    "        if indicator.shape[0]==0:\n",
    "            continue\n",
    "        loss = -(ll[indicator[:,0]]).mean() #only use samples with y > u\n",
    "        # loss = -(ll).mean() # use all samples\n",
    "        # loss = loss_func(g, y) \n",
    "        if np.isnan(loss.item()):\n",
    "            pdb.set_trace()\n",
    "        optimizer.zero_grad()\n",
    "        loss.backward()\n",
    "        optimizer.step()\n",
    "        if i==nBtrain:\n",
    "            break\n",
    "    print(\"Epoch %s: \"%epoch, loss.item())\n",
    "\n",
    "# print(xi.item())\n",
    "# test_ind = range(nBtrain*dataloader.batch_size, len(td))\n",
    "test_ind = range(len(td)-240, len(td))\n",
    "n = len(test_ind)\n",
    "y = np.zeros(n)\n",
    "yhat = np.zeros(n)\n",
    "for i in range(n):\n",
    "    yhat[i] = model(torch.tensor(td[test_ind[i]][\"past\"]).unsqueeze(0))[0].item()\n",
    "    y[i] = td[test_ind[i]][\"current\"].item()\n",
    "t = np.array(range(n))\n",
    "\n",
    "# plt.plot(t, td.std.item()*y.astype(np.float32)+td.mean.item(), 'k--', t, td.std.item()*(u+yhat.astype(np.float32)/(1-xi.item()))+td.mean.item(), 'r-')\n",
    "plt.figure()\n",
    "plt.plot(t, td.std.item()*y.astype(np.float32)+td.mean.item(), 'k--', t, td.std.item()*(u+yhat.astype(np.float32))+td.mean.item(), 'r-')\n",
    "plt.savefig(str(seed)+\"_evt.png\")\n",
    "\n",
    "\n",
    "# model(torch.tensor(td[10][\"past\"]).unsqueeze(0))\n",
    "# model(torch.tensor(td[40][\"past\"]).unsqueeze(0))\n",
    "\n",
    "\n"
   ]
  },
  {
   "cell_type": "code",
   "execution_count": null,
   "metadata": {
    "collapsed": true
   },
   "outputs": [],
   "source": []
  }
 ],
 "metadata": {
  "kernelspec": {
   "display_name": "Python [default]",
   "language": "python",
   "name": "python3"
  },
  "language_info": {
   "codemirror_mode": {
    "name": "ipython",
    "version": 3
   },
   "file_extension": ".py",
   "mimetype": "text/x-python",
   "name": "python",
   "nbconvert_exporter": "python",
   "pygments_lexer": "ipython3",
   "version": "3.6.8"
  }
 },
 "nbformat": 4,
 "nbformat_minor": 2
}
